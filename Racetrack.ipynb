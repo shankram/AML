{
  "nbformat": 4,
  "nbformat_minor": 0,
  "metadata": {
    "kernelspec": {
      "display_name": "Python 2",
      "language": "python",
      "name": "python2"
    },
    "language_info": {
      "codemirror_mode": {
        "name": "ipython",
        "version": 2
      },
      "file_extension": ".py",
      "mimetype": "text/x-python",
      "name": "python",
      "nbconvert_exporter": "python",
      "pygments_lexer": "ipython2",
      "version": "2.7.12"
    },
    "colab": {
      "name": "AML2.ipynb",
      "provenance": [],
      "collapsed_sections": []
    }
  },
  "cells": [
    {
      "cell_type": "markdown",
      "metadata": {
        "id": "wwFLzl8FvBLN"
      },
      "source": [
        "# Racetrack example\n",
        "from *Reinforcement learning - An introduction* book, chapter 5, Exercice 5.8"
      ]
    },
    {
      "cell_type": "markdown",
      "metadata": {
        "id": "aGY_pk45vBLb"
      },
      "source": [
        "**Racetrack**. Consider driving a race car around a turn like those shown in Figure 5.6. You want to go as fast as possible, but not so fast as to run off the track. In our simplified racetrack, the car is at one of a discrete set\n",
        "of grid positions, the cells in the diagram. The velocity is also discrete, a number of grid cells moved horizontally and vertically per time step. The actions are increments to the velocity components. Each may be changed by +1, −1, or 0 in one step, for a total of nine actions. Both velocity components are restricted to be nonnegative and less than 5, and they cannot both be zero except at the starting line. Each episode begins in one of the randomly selected start states with both velocity components zero and ends when the car crosses the finish line. The rewards are −1 for each step\n",
        "until the car crosses the finish line. If the car hits the track boundary, it is moved back to a random position on the starting line, both velocity components are reduced to zero, and the episode continues. Before updating the car’s location at each time step, check to see if the projected path of the car intersects the track boundary. If it intersects the finish line, the episode ends; if it intersects anywhere else, the car is considered to have hit the track boundary and is sent back to the starting line. To make the task more challenging, with probability 0.1 at each time step the velocity increments are both zero, independently of the intended increments. Apply a Monte Carlo control method to this task to compute the optimal policy from each starting state. Exhibit several trajectories following the optimal policy (but turn the noise off for these trajectories).\n",
        "\n",
        "- States : position (x,y) on the grid and velocity (vx, vy)\n",
        "- Actions : vx, vy velocity increments (+1,-1,0) "
      ]
    },
    {
      "cell_type": "code",
      "metadata": {
        "collapsed": true,
        "id": "9Kqjt0sKvBLd"
      },
      "source": [
        "import numpy as np\n",
        "import matplotlib.pyplot as plt\n",
        "%matplotlib inline\n",
        "\n",
        "import logging\n",
        "logging.getLogger().setLevel(logging.DEBUG)"
      ],
      "execution_count": null,
      "outputs": []
    },
    {
      "cell_type": "markdown",
      "metadata": {
        "id": "IlQVckgPvBLj"
      },
      "source": [
        "First we define a race track similar as in the exercise"
      ]
    },
    {
      "cell_type": "code",
      "metadata": {
        "id": "XOJj4ElAvBLl"
      },
      "source": [
        "TRACK_WIDTH = 25\n",
        "TRACK_HEIGTH = 60\n",
        "\n",
        "TRACK = {}\n",
        "TRACK['grid'] = np.ones((TRACK_HEIGTH, TRACK_WIDTH))\n",
        "\n",
        "# Starting line:\n",
        "TRACK['starting_line'] = ((0, 7), (0,15))\n",
        "sl = TRACK['starting_line']\n",
        "TRACK['grid'][TRACK_HEIGTH - 1 - sl[0][0], sl[0][1]:sl[1][1]] = 0.5\n",
        "\n",
        "# Finish line:\n",
        "TRACK['finish_line'] = ((TRACK_HEIGTH, TRACK_WIDTH-1), (TRACK_HEIGTH-10, TRACK_WIDTH-1))\n",
        "fl = TRACK['finish_line']\n",
        "TRACK['grid'][TRACK_HEIGTH - fl[0][0]:TRACK_HEIGTH - fl[1][0], fl[0][1]] = 0.5\n",
        "\n",
        "# Off-track:\n",
        "for i in range(TRACK_WIDTH):\n",
        "    for j in range(TRACK_HEIGTH):\n",
        "        if i + j < 7:\n",
        "            TRACK['grid'][j, i] = 0.0\n",
        "        elif i >= 15 and j >= 10:\n",
        "            TRACK['grid'][j, i] = 0.0\n",
        "        elif i <= 7 and j >= TRACK_HEIGTH/2.2 and i + 0.2*(TRACK_HEIGTH-j) <= 7:\n",
        "            TRACK['grid'][j, i] = 0.0"
      ],
      "execution_count": null,
      "outputs": []
    },
    {
      "cell_type": "code",
      "metadata": {
        "id": "6IQ-Sy-fmOnP"
      },
      "source": [
        "TRACK_WIDTH_1 = 15\r\n",
        "TRACK_HEIGTH_1 = 17\r\n",
        "\r\n",
        "TRACK_1 = {}\r\n",
        "TRACK_1['grid'] = np.ones((TRACK_HEIGTH_1, TRACK_WIDTH_1))\r\n",
        "\r\n",
        "# Starting line:\r\n",
        "TRACK_1['starting_line'] = ((0, 0), (0,14))\r\n",
        "sl_1 = TRACK_1['starting_line']\r\n",
        "TRACK_1['grid'][TRACK_HEIGTH_1 - 1 - sl_1[0][0], :] = 0.5\r\n",
        "\r\n",
        "# Finish line:\r\n",
        "#TRACK_1['finish_line'] = ((TRACK_HEIGTH_1 -1, 0), (TRACK_HEIGTH_1 -1, TRACK_WIDTH_1))\r\n",
        "TRACK_1['finish_line'] = ((16, 0), (16, 14))\r\n",
        "fl_1 = TRACK_1['finish_line']\r\n",
        "TRACK_1['grid'][0, :] = 0.5\r\n",
        "\r\n",
        "#Off-Track\r\n",
        "TRACK_1['grid'][3, 4:11] = 0.0\r\n",
        "TRACK_1['grid'][7, 0:5] = 0.0\r\n",
        "TRACK_1['grid'][7, 10:15] = 0.0\r\n",
        "TRACK_1['grid'][11, 4:11] = 0.0"
      ],
      "execution_count": null,
      "outputs": []
    },
    {
      "cell_type": "code",
      "metadata": {
        "colab": {
          "base_uri": "https://localhost:8080/",
          "height": 396
        },
        "id": "zeXBRkjxqVL8",
        "outputId": "a5f60a0a-73ff-486f-8b9d-dfb1ae967d8b"
      },
      "source": [
        "plt.figure(figsize=(14,6))\r\n",
        "plt.imshow(TRACK_1['grid'], cmap='gray', interpolation='None')"
      ],
      "execution_count": null,
      "outputs": [
        {
          "output_type": "execute_result",
          "data": {
            "text/plain": [
              "<matplotlib.image.AxesImage at 0x7f6d478227d0>"
            ]
          },
          "metadata": {
            "tags": []
          },
          "execution_count": 3
        },
        {
          "output_type": "display_data",
          "data": {
            "image/png": "[encoded data removed]",
            "text/plain": [
              "<Figure size 1008x432 with 1 Axes>"
            ]
          },
          "metadata": {
            "tags": [],
            "needs_background": "light"
          }
        }
      ]
    },
    {
      "cell_type": "code",
      "metadata": {
        "scrolled": true,
        "colab": {
          "base_uri": "https://localhost:8080/",
          "height": 396
        },
        "id": "6Q-rt8S_vBLo",
        "outputId": "82ee05cd-f471-462c-f255-34860a705c5e"
      },
      "source": [
        "plt.figure(figsize=(14,6))\n",
        "plt.imshow(TRACK['grid'], cmap='gray', interpolation='None')"
      ],
      "execution_count": null,
      "outputs": [
        {
          "output_type": "execute_result",
          "data": {
            "text/plain": [
              "<matplotlib.image.AxesImage at 0x7f468426b790>"
            ]
          },
          "metadata": {
            "tags": []
          },
          "execution_count": 3
        },
        {
          "output_type": "display_data",
          "data": {
            "image/png": "[encoded data removed]",
            "text/plain": [
              "<Figure size 1008x432 with 1 Axes>"
            ]
          },
          "metadata": {
            "tags": [],
            "needs_background": "light"
          }
        }
      ]
    },
    {
      "cell_type": "markdown",
      "metadata": {
        "id": "YYCLar5lvBLs"
      },
      "source": [
        "Below we define useful functions to work with states and actions and some helper functions.\n",
        "In the episode generating method `race`, we do not implement finish and off-track checks by the intersection, we simply check if final state is at the finish or off-track. This leads in some cases to non-finishing and fly-over boundaries trajectories."
      ]
    },
    {
      "cell_type": "code",
      "metadata": {
        "id": "Ph2hwSckvBLs"
      },
      "source": [
        "def position_in_interval(x,y,(x1,y1,x2,y2)):\n",
        "    v1 = (x - x1, y - y1)\n",
        "    v2 = (x2 - x, y2 - y)\n",
        "    v3 = (x2 - x1, y2 - y1)\n",
        "    n1 = np.linalg.norm(v1)\n",
        "    n2 = np.linalg.norm(v2)\n",
        "    c = np.dot(v1, v2) if n1 > 0 and n2 > 0 else 1.0\n",
        "    n3 = np.linalg.norm(v3)\n",
        "    return n1 + n2 == n3 and c >= 0\n",
        "\n",
        "def get_actions(state, track):\n",
        "    \"\"\"\n",
        "    Method to get all available actions for the current state\n",
        "    :state: (x, y, vx, vy)\n",
        "    :return: list of actions, e.g. [[dvx, dvy], ...]\n",
        "    \"\"\"    \n",
        "    x,y,vx,vy = state\n",
        "    actions = []\n",
        "    for dvx in range(-1,2):\n",
        "        for dvy in range(-1,2):\n",
        "            nvx = vx + dvx; nvy = vy + dvy\n",
        "            if 0 < nvx < 5 and 0 < nvy < 5:\n",
        "                actions.append([dvx, dvy])\n",
        "            elif 0 < nvx < 5 and 0 == nvy or 0 < nvy < 5 and 0 == nvx:\n",
        "                actions.append([dvx, dvy])\n",
        "            elif 0 == nvx and 0 == nvy:\n",
        "                if track['grid'][TRACK_HEIGTH-1-y, x] == 0.5:\n",
        "                    actions.append([dvx, dvy])\n",
        "    assert len(actions) > 0, \"No actions found for the state : {}\".format(state)\n",
        "    return actions\n",
        "\n",
        "def take_action(state, action):\n",
        "    x, y, vx, vy = state\n",
        "    nx = x + vx\n",
        "    ny = y + vy\n",
        "    nvx = vx + action[0]\n",
        "    nvy = vy + action[1]\n",
        "    return (nx, ny, nvx, nvy)"
      ],
      "execution_count": null,
      "outputs": []
    },
    {
      "cell_type": "code",
      "metadata": {
        "id": "R7mCSg2lvBLt"
      },
      "source": [
        "def get_initial_state(track, alpha):\n",
        "    [y1, x1], [y2, x2] = track['starting_line']\n",
        "    v = (x2 - x1, y2 - y1)\n",
        "    return (int(x1 + v[0] * alpha), int(y1 + v[1] * alpha), 0, 0)\n",
        "\n",
        "def at_start(x, y, track):\n",
        "    sl = track['starting_line']\n",
        "    return position_in_interval(x,y,(sl[0][1], sl[0][0], sl[1][1], sl[1][0]))\n",
        "\n",
        "def at_finish(x, y, track):\n",
        "    fl = track['finish_line']\n",
        "    return position_in_interval(x,y,(fl[0][1], fl[0][0], fl[1][1], fl[1][0]))\n",
        "\n",
        "def distance_to_finish(x, y, track):\n",
        "    fl = track['finish_line']\n",
        "    finish_point = (int(fl[1][1] + 0.5*(fl[0][1]-fl[1][1])), int(fl[1][0] + 0.5*(fl[0][0]-fl[1][0])))\n",
        "    return np.abs(finish_point[0] - x) + np.abs(finish_point[1] - y)\n",
        "\n",
        "def is_off_track(x, y, vx, vy, track):\n",
        "    if not (x < 0 or y < 0 or x >= TRACK_WIDTH or y >= TRACK_HEIGTH):\n",
        "      return True\n",
        "    else:\n",
        "      for i in range(x, x+vx):\n",
        "        for j in range(y, y+vy):\n",
        "          if track['grid'][TRACK_HEIGTH-1-j, i] < 0.5:\n",
        "            return True\n",
        "    return False\n",
        "    \n",
        "\n",
        "MIN_REWARD = -(TRACK_HEIGTH + TRACK_WIDTH)  \n",
        "CRASH_REWARD = MIN_REWARD*0.15\n",
        "REACHED_FINISH_REWARD = 100\n",
        "    \n",
        "def race(policy_func, track, initial_state=None):\n",
        "    \n",
        "    logging.debug(\"-- Race is called : initial_state={}\".format(initial_state))\n",
        "    \n",
        "    if initial_state is None:\n",
        "        initial_state = get_initial_state(track, alpha=np.random.rand())\n",
        "        \n",
        "    # define a function when car is at finish\n",
        "    fl = track['finish_line']\n",
        "\n",
        "    trajectory = []\n",
        "    reward = 0\n",
        "    state = initial_state\n",
        "    reached_finish = False\n",
        "    while reward > MIN_REWARD and not reached_finish:\n",
        "\n",
        "        action = policy_func(state)\n",
        "        trajectory.append((state, action))\n",
        "        \n",
        "        logging.debug(\"--- Race loop : state={}, action={}, reward={}, len(trajectory)={}\".format(state, action, reward, len(trajectory)))\n",
        "        \n",
        "        xi, yi, vxi, vyi = state\n",
        "        state = take_action(state, action)\n",
        "        logging.debug(\"--- Race loop 2 : new state={}\".format(state))\n",
        "        x, y, vx, vy = state\n",
        "        if is_off_track(xi, yi, vxi, vyi, track):\n",
        "            logging.debug(\"--- Race loop 3 : out of track\")\n",
        "            reward = CRASH_REWARD\n",
        "            break\n",
        "\n",
        "        reward -= 1\n",
        "        reached_finish = at_finish(state[0], state[1], track)\n",
        "    \n",
        "    if reached_finish:\n",
        "        reward += REACHED_FINISH_REWARD\n",
        "        \n",
        "    return reward, trajectory, reached_finish"
      ],
      "execution_count": null,
      "outputs": []
    },
    {
      "cell_type": "code",
      "metadata": {
        "id": "hlxq8TkyvBLu"
      },
      "source": [
        "from operator import itemgetter\n",
        "\n",
        "def find_best_trajectory(initial_state, q_state_action, track):\n",
        "    state = initial_state\n",
        "    reward = 0\n",
        "    reached_finish = False\n",
        "    trajectory = []\n",
        "    while not reached_finish or is_off_track(state[0], state[1], state[2], state[3], track):\n",
        "        actions_values = q_state_action[state]\n",
        "        action = actions_values[0][0]\n",
        "        state = take_action(state, action)\n",
        "        reward -= 1\n",
        "        reached_finish = at_finish(state[0], state[1], track)\n",
        "        trajectory.append(state)\n",
        "        \n",
        "    return trajectory, reward, reached_finish\n",
        "\n",
        "def draw_trajectory(trajectory, track, fig=None):\n",
        "    if fig is None:\n",
        "        plt.figure(figsize=(12,4))\n",
        "    plt.imshow(track['grid'], cmap='gray', interpolation='None')\n",
        "    xs = []\n",
        "    ys = []\n",
        "    us = []\n",
        "    vs = []\n",
        "    for state, action in trajectory:\n",
        "        xs.append(state[0])\n",
        "        ys.append(TRACK_HEIGTH - 1 - state[1])\n",
        "        us.append(state[2])\n",
        "        vs.append(state[3])\n",
        "    plt.quiver(xs, ys, us, vs)\n",
        "    \n",
        "    \n",
        "def draw_q_state_action(q_state_action, track):\n",
        "    plt.figure(figsize=(12,6))\n",
        "    plt.imshow(track['grid'], cmap='gray', interpolation='None')\n",
        "    xs = []; ys = []; us1 = []; vs1 = []; us2 = []; vs2 = []\n",
        "    for state in q_state_action:\n",
        "        xs.append(state[0])\n",
        "        ys.append(TRACK_HEIGTH - 1 - state[1])\n",
        "        us1.append(state[2])\n",
        "        vs1.append(state[3])\n",
        "    plt.quiver(xs, ys, us1, vs1)        "
      ],
      "execution_count": null,
      "outputs": []
    },
    {
      "cell_type": "markdown",
      "metadata": {
        "id": "cpHL2u2pvBLv"
      },
      "source": [
        "We also define a behavior policy that selects the best action for a known state, otherwise it picks a random action such that: \n",
        "- car keeps moving\n",
        "- distance to finish decrease\n",
        "- car does not go off the track"
      ]
    },
    {
      "cell_type": "code",
      "metadata": {
        "collapsed": true,
        "id": "6e5icaXivBLy"
      },
      "source": [
        "def random_behavior_policy(state, track):\n",
        "    index = 0\n",
        "    actions = get_actions(state, track)\n",
        "    count = len(actions)\n",
        "    prev_dist = distance_to_finish(state[0], state[1], track)\n",
        "    while count > 0:\n",
        "        index = np.random.randint(len(actions))\n",
        "        action = actions[index]\n",
        "        x,y,vx,vy = take_action(state, action)\n",
        "        nx, ny = x + vx + action[0], y + vy + action[1]\n",
        "        new_dist = distance_to_finish(nx, ny, track)\n",
        "        if vx > 0 or vy > 0 and new_dist < prev_dist and not is_off_track(x, y, vx, vy, track):\n",
        "            break\n",
        "        count -= 1\n",
        "    return actions[index]\n",
        "\n",
        "def behavior_policy(state, track, q_state_action):\n",
        "    if state in q_state_action:\n",
        "        actions_values = q_state_action[state]\n",
        "        return actions_values[0][0]\n",
        "    else:\n",
        "        return random_behavior_policy(state, track)"
      ],
      "execution_count": null,
      "outputs": []
    },
    {
      "cell_type": "markdown",
      "metadata": {
        "id": "G8qCU7P8vBLz"
      },
      "source": [
        "Now we define some policy parameters and now we can start racing and policy learning"
      ]
    },
    {
      "cell_type": "markdown",
      "metadata": {
        "id": "sPVdTgVYvBL0"
      },
      "source": [
        "First, we implement *Monte Carlo Exploring Starts* method\n",
        "\n",
        "```\n",
        "Initialize, for all s ∈ S, a ∈ A(s):\n",
        "    Q(s, a) ← arbitrary\n",
        "    π(s) ← arbitrary\n",
        "    Returns(s, a) ← empty list\n",
        "    \n",
        "Repeat forever:\n",
        "    Choose S_0 ∈ S and A_0 ∈ A(S_0) s.t. all pairs have probability > 0\n",
        "    Generate an episode starting from S_0 , A_0 , following π\n",
        "    For each pair s, a appearing in the episode:\n",
        "        G ← return following the first occurrence of s, a\n",
        "        Append G to Returns(s, a)\n",
        "        Q(s, a) ← average(Returns(s, a))\n",
        "    For each s in the episode:\n",
        "        π(s) ← argmax_a Q(s, a)\n",
        "```\n",
        "\n",
        "*Note on the implementation*\n",
        "- The initialization part is done in the `behavior_policy` if the input state is not known.\n"
      ]
    },
    {
      "cell_type": "code",
      "metadata": {
        "scrolled": true,
        "id": "i1dhlwfnvBL1"
      },
      "source": [
        "from collections import defaultdict\n",
        "\n",
        "def monte_carlo_es(n_episodes=1000, track=TRACK, q_state_action=None):\n",
        "    \n",
        "    q_state_action = {} if q_state_action is None else q_state_action\n",
        "    \n",
        "    finished_race_count = 0\n",
        "    best_reward = MIN_REWARD\n",
        "    policy_func = lambda state: behavior_policy(state, track, q_state_action)\n",
        "    \n",
        "    for episode in range(n_episodes):\n",
        "        if episode % 1000 == 0:\n",
        "            logging.info(\"Episode : %i\" % episode)\n",
        "        \n",
        "        # Policy evaluation:\n",
        "        logging.debug(\"- Policy evaluation\")\n",
        "        initial_state = get_initial_state(track, alpha=np.random.rand())\n",
        "        reward, trajectory, reached_finish = race(policy_func, track, initial_state)\n",
        "        #print(reward)\n",
        "\n",
        "        if reached_finish:\n",
        "            finished_race_count += 1\n",
        "            if best_reward < reward:\n",
        "                best_reward = reward\n",
        "#             logging.info(\"Reward: {} | start_state={}, last_state={}\".format(reward, trajectory[0][0],  trajectory[-1][0]))\n",
        "#             draw_trajectory(trajectory, track)\n",
        "            \n",
        "        # Policy improvement:\n",
        "        logging.debug(\"- Policy improvement\")\n",
        "        first_occurence = defaultdict(list)\n",
        "        for (state, action) in trajectory:\n",
        "            if not action in first_occurence[state]:\n",
        "                first_occurence[state].append(action)\n",
        "                if state in q_state_action:\n",
        "                    actions_values = q_state_action[state]\n",
        "                    for action_value in actions_values:\n",
        "                        if action_value[0] == action:\n",
        "                            action_value[1] += reward\n",
        "                    q_state_action[state] = sorted(actions_values, key=itemgetter(1), reverse=True)\n",
        "                else:\n",
        "                    # Generate arbitrary state action values:\n",
        "                    actions = get_actions(state, track)\n",
        "                    actions_values = []\n",
        "                    for a in actions:\n",
        "                        if a == action:\n",
        "                            actions_values.append([a, reward])\n",
        "                        elif at_start(state[0], state[1], track) and a == [0, 0]:\n",
        "                            actions_values.append([a, MIN_REWARD*10])\n",
        "                        else:\n",
        "                            actions_values.append([a, np.random.randint(MIN_REWARD*0.75, MIN_REWARD*0.55)])\n",
        "\n",
        "                    actions_values = sorted(actions_values, key=itemgetter(1), reverse=True)\n",
        "                    q_state_action[state] = actions_values                                \n",
        "\n",
        "    logging.info(\"Finished racing: {} / {}, best reward: {}\".format(finished_race_count, n_episodes, best_reward))\n",
        "    return q_state_action, finished_race_count, best_reward"
      ],
      "execution_count": null,
      "outputs": []
    },
    {
      "cell_type": "code",
      "metadata": {
        "colab": {
          "base_uri": "https://localhost:8080/",
          "height": 207
        },
        "id": "Vv0MNy8XrcY6",
        "outputId": "ba9d937b-d6ff-4ea0-9f42-29c7677bcdbd"
      },
      "source": [
        "TRACK_HEIGTH = TRACK_HEIGTH_1\r\n",
        "TRACK_WIDTH = TRACK_WIDTH_1\r\n",
        "TRACK = TRACK_1"
      ],
      "execution_count": null,
      "outputs": [
        {
          "output_type": "error",
          "ename": "NameError",
          "evalue": "ignored",
          "traceback": [
            "\u001b[0;31m\u001b[0m",
            "\u001b[0;31mNameError\u001b[0mTraceback (most recent call last)",
            "\u001b[0;32m<ipython-input-9-fbbc44ae2803>\u001b[0m in \u001b[0;36m<module>\u001b[0;34m()\u001b[0m\n\u001b[0;32m----> 1\u001b[0;31m \u001b[0mTRACK_HEIGTH\u001b[0m \u001b[0;34m=\u001b[0m \u001b[0mTRACK_HEIGTH_1\u001b[0m\u001b[0;34m\u001b[0m\u001b[0m\n\u001b[0m\u001b[1;32m      2\u001b[0m \u001b[0mTRACK_WIDTH\u001b[0m \u001b[0;34m=\u001b[0m \u001b[0mTRACK_WIDTH_1\u001b[0m\u001b[0;34m\u001b[0m\u001b[0m\n\u001b[1;32m      3\u001b[0m \u001b[0mTRACK\u001b[0m \u001b[0;34m=\u001b[0m \u001b[0mTRACK_1\u001b[0m\u001b[0;34m\u001b[0m\u001b[0m\n",
            "\u001b[0;31mNameError\u001b[0m: name 'TRACK_HEIGTH_1' is not defined"
          ]
        }
      ]
    },
    {
      "cell_type": "code",
      "metadata": {
        "collapsed": true,
        "id": "7Z13GLOCvBL2"
      },
      "source": [
        "#MIN_REWARD = -(TRACK_HEIGTH + TRACK_WIDTH)  \n",
        "MIN_REWARD = -100\n",
        "CRASH_REWARD = -10\n",
        "REACHED_FINISH_REWARD = 1000\n",
        "\n",
        "q_state_action = {}"
      ],
      "execution_count": null,
      "outputs": []
    },
    {
      "cell_type": "code",
      "metadata": {
        "colab": {
          "base_uri": "https://localhost:8080/",
          "height": 723
        },
        "id": "ASywh6KLvBL3",
        "outputId": "288358b2-dac7-4242-8b10-de0ccdcb636b"
      },
      "source": [
        "logging.getLogger().setLevel(logging.INFO)       \n",
        "q_state_action, finished_race_count, best_reward = monte_carlo_es(10000, q_state_action=q_state_action)\n",
        "draw_q_state_action(q_state_action, TRACK)"
      ],
      "execution_count": null,
      "outputs": [
        {
          "output_type": "stream",
          "text": [
            "INFO:root:Episode : 0\n",
            "INFO:root:Episode : 1000\n",
            "INFO:root:Episode : 2000\n",
            "INFO:root:Episode : 3000\n",
            "INFO:root:Episode : 4000\n",
            "INFO:root:Episode : 5000\n",
            "INFO:root:Episode : 6000\n",
            "INFO:root:Episode : 7000\n",
            "INFO:root:Episode : 8000\n",
            "INFO:root:Episode : 9000\n",
            "INFO:root:Finished racing: 0 / 10000, best reward: -100\n",
            "/usr/local/lib/python2.7/dist-packages/matplotlib/quiver.py:666: RuntimeWarning: divide by zero encountered in double_scalars\n",
            "  length = a * (widthu_per_lenu / (self.scale * self.width))\n",
            "/usr/local/lib/python2.7/dist-packages/matplotlib/quiver.py:666: RuntimeWarning: invalid value encountered in multiply\n",
            "  length = a * (widthu_per_lenu / (self.scale * self.width))\n",
            "/usr/local/lib/python2.7/dist-packages/matplotlib/quiver.py:719: RuntimeWarning: invalid value encountered in less\n",
            "  short = np.repeat(length < minsh, 8, axis=1)\n",
            "/usr/local/lib/python2.7/dist-packages/matplotlib/quiver.py:733: RuntimeWarning: invalid value encountered in less\n",
            "  tooshort = length < self.minlength\n"
          ],
          "name": "stderr"
        },
        {
          "output_type": "display_data",
          "data": {
            "image/png": "[encoded data removed]",
            "text/plain": [
              "<Figure size 864x432 with 1 Axes>"
            ]
          },
          "metadata": {
            "tags": [],
            "needs_background": "light"
          }
        }
      ]
    },
    {
      "cell_type": "code",
      "metadata": {
        "colab": {
          "base_uri": "https://localhost:8080/",
          "height": 623
        },
        "id": "oCSRkG19vBL4",
        "outputId": "01108109-f33d-4ef5-a028-c80f4cb94cc7"
      },
      "source": [
        "fig = plt.figure(figsize=(14,10))\n",
        "n_figs = 8\n",
        "for i in range(0, n_figs):\n",
        "    alpha = i*1.0 / n_figs\n",
        "    state = get_initial_state(TRACK, alpha)\n",
        "    policy_func = lambda state: behavior_policy(state, TRACK, q_state_action)\n",
        "    \n",
        "    reward, best_trajectory, reached_finish = race(policy_func, TRACK, state)\n",
        "    plt.subplot(2, n_figs/2, i+1)\n",
        "    plt.title(\"Initial state: {}\\n Reward: {}\".format(state, reward))\n",
        "    draw_trajectory(best_trajectory, TRACK, fig)                "
      ],
      "execution_count": null,
      "outputs": [
        {
          "output_type": "display_data",
          "data": {
            "image/png": "[encoded data removed]",
            "text/plain": [
              "<Figure size 1008x720 with 8 Axes>"
            ]
          },
          "metadata": {
            "tags": [],
            "needs_background": "light"
          }
        }
      ]
    },
    {
      "cell_type": "markdown",
      "metadata": {
        "id": "xibpAtTKvBL5"
      },
      "source": [
        "Next we implements *on-policy first-visit Monte Carlo* method\n",
        "\n",
        "```\n",
        "Initialize, for all s ∈ S, a ∈ A(s):\n",
        "    Q(s, a) ← arbitrary\n",
        "    Returns(s, a) ← empty list\n",
        "    π(a|s) ← an arbitrary ε-soft policy\n",
        "\n",
        "Repeat forever:\n",
        "    (a) Generate an episode using π\n",
        "    (b) For each pair s, a appearing in the episode:\n",
        "            G ← return following the first occurrence of s, a\n",
        "            Append G to Returns(s, a)\n",
        "            Q(s, a) ← average(Returns(s, a))\n",
        "    (c) For each s in the episode:\n",
        "            A^∗ ← arg max a Q(s, a)\n",
        "            For all a ∈ A(s):\n",
        "               π(a|s) = {\u001a 1 − ε + ε/|A(s)|, if a = A^∗,\n",
        "                        { ε/|A(s)|, if a != A^∗\n",
        "```"
      ]
    },
    {
      "cell_type": "code",
      "metadata": {
        "collapsed": true,
        "id": "Xlk22XqLvBL6"
      },
      "source": [
        "# def epsilon_soft_policy(state, track, pi_state_action, epsilon):\n",
        "#     actions = get_actions(state, track)\n",
        "    \n",
        "#     for \n",
        "    \n",
        "#     if state in q_state_action:\n",
        "#         actions_values = q_state_action[state]\n",
        "#         action_star = actions_values[0][0]\n",
        "#         actions = get_actions(state, track)\n",
        "#         for action in actions:\n",
        "            \n",
        "#         return \n",
        "#     else:\n",
        "#         return random_behavior_policy(state, track)"
      ],
      "execution_count": null,
      "outputs": []
    },
    {
      "cell_type": "code",
      "metadata": {
        "collapsed": true,
        "id": "U4M6OkOivBL7"
      },
      "source": [
        "# def monte_carlo_on_policy(n_episodes=1000, track=TRACK, q_state_action=None, epsilon=0.1):\n",
        "    \n",
        "#     q_state_action = {} if q_state_action is None else q_state_action\n",
        "    \n",
        "#     finished_race_count = 0\n",
        "#     best_reward = MIN_REWARD\n",
        "#     policy_func = lambda state, track: epsilon_soft_policy(state, track, q_state_action, epsilon)\n",
        "    \n",
        "#     for episode in range(n_episodes):\n",
        "#         if episode % 1000 == 0:\n",
        "#             logging.info(\"Episode : %i\" % episode)\n",
        "        \n",
        "#         # Policy evaluation:\n",
        "#         logging.debug(\"- Policy evaluation\")\n",
        "#         initial_state = get_initial_state(track, alpha=np.random.rand())\n",
        "#         reward, trajectory, reached_finish = race(policy_func, track, initial_state)\n",
        "\n",
        "#         if reached_finish:\n",
        "#             finished_race_count += 1\n",
        "#             if best_reward < reward:\n",
        "#                 best_reward = reward\n",
        "# #             logging.info(\"Reward: {} | start_state={}, last_state={}\".format(reward, trajectory[0][0],  trajectory[-1][0]))\n",
        "# #             draw_trajectory(trajectory, track)\n",
        "            \n",
        "#         # Policy improvement:\n",
        "#         logging.debug(\"- Policy improvement\")\n",
        "#         first_occurence = defaultdict(list)\n",
        "#         for (state, action) in trajectory:\n",
        "#             actions_values = q_state_action[state]\n",
        "#             for action_value in actions_values:\n",
        "#                 if action_value[0] == action:\n",
        "#                     if not action in first_occurence[state]:\n",
        "#                         first_occurence[state].append(action)\n",
        "#                         action_value[1] += reward\n",
        "#             q_state_action[state] = sorted(actions_values, key=itemgetter(1), reverse=True)\n",
        "\n",
        "#     logging.info(\"Finished racing: {} / {}, best reward: {}\".format(finished_race_count, n_episodes, best_reward))\n",
        "#     return q_state_action, finished_race_count, best_reward"
      ],
      "execution_count": null,
      "outputs": []
    },
    {
      "cell_type": "code",
      "metadata": {
        "collapsed": true,
        "id": "kymikBPivBL8"
      },
      "source": [
        ""
      ],
      "execution_count": null,
      "outputs": []
    },
    {
      "cell_type": "code",
      "metadata": {
        "collapsed": true,
        "id": "9rl-a6IAvBL8"
      },
      "source": [
        ""
      ],
      "execution_count": null,
      "outputs": []
    },
    {
      "cell_type": "code",
      "metadata": {
        "collapsed": true,
        "id": "I3XNDX6UvBL9"
      },
      "source": [
        ""
      ],
      "execution_count": null,
      "outputs": []
    },
    {
      "cell_type": "code",
      "metadata": {
        "collapsed": true,
        "id": "uK81OaDjvBL-"
      },
      "source": [
        ""
      ],
      "execution_count": null,
      "outputs": []
    },
    {
      "cell_type": "code",
      "metadata": {
        "id": "wRpUoiB3vBMA"
      },
      "source": [
        "def get_line_coeff(x1, y1, x2, y2):\n",
        "    s = x2 - x1 \n",
        "    c = y1 - y2 \n",
        "    d = x1 * y2 - y1 * x2\n",
        "    return (c, s, d)\n",
        "\n",
        "\n",
        "def position_on_line(x,y,line_coeff):\n",
        "    assert len(line_coeff) == 3, \"Line coefficients are (cos, sin, dist)\"\n",
        "    return np.dot((x, y, 1), line_coeff) == 0"
      ],
      "execution_count": null,
      "outputs": []
    }
  ]
}