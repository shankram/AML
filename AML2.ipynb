{
  "nbformat": 4,
  "nbformat_minor": 0,
  "metadata": {
    "accelerator": "GPU",
    "colab": {
      "name": "AML1.ipynb",
      "provenance": [],
      "collapsed_sections": [
        "8znjwqPWqnxd"
      ]
    },
    "kernelspec": {
      "display_name": "Python 3",
      "language": "python",
      "name": "python3"
    },
    "language_info": {
      "codemirror_mode": {
        "name": "ipython",
        "version": 3
      },
      "file_extension": ".py",
      "mimetype": "text/x-python",
      "name": "python",
      "nbconvert_exporter": "python",
      "pygments_lexer": "ipython3",
      "version": "3.6.6"
    }
  },
  "cells": [
    {
      "cell_type": "markdown",
      "metadata": {
        "id": "4Wr0dtHSqnxS"
      },
      "source": [
        "# Advanced Machine Learning Assignment 1\n",
        "\n",
        "Using sample code for CNN model to solve the Sign Language Image classigication problem. The structure of network was assumed to be the same and Bayesian Optimisation was used to find the optimal number of filters in the convolutional layers and the optimal number of neurons in the fully connected layers."
      ]
    },
    {
      "cell_type": "code",
      "metadata": {
        "colab": {
          "base_uri": "https://localhost:8080/"
        },
        "id": "M69hPb6qsNSD",
        "outputId": "6ab697e2-cd10-46ca-eb1d-39522288fd77"
      },
      "source": [
        "from google.colab import drive\n",
        "drive.mount('/content/drive')"
      ],
      "execution_count": null,
      "outputs": [
        {
          "output_type": "stream",
          "text": [
            "Mounted at /content/drive\n"
          ],
          "name": "stdout"
        }
      ]
    },
    {
      "cell_type": "markdown",
      "metadata": {
        "id": "qSuHYmFiqnxT"
      },
      "source": [
        "### ** Importing libraries **"
      ]
    },
    {
      "cell_type": "code",
      "metadata": {
        "id": "cW446CVlqnxU"
      },
      "source": [
        "# standart data tools\n",
        "import numpy as np\n",
        "import pandas as pd\n",
        "\n",
        "# common visualizing tools\n",
        "import matplotlib.pyplot as plt\n",
        "import seaborn as sns\n",
        "\n",
        "# CNN layers and the Deep Learning model\n",
        "from tensorflow import keras\n",
        "from keras.models import Sequential\n",
        "from keras.layers import Conv2D, MaxPooling2D, Dense , Flatten, Dropout\n",
        "from keras.optimizers import Adam\n",
        "\n",
        "# splitting tool for the validation set\n",
        "from sklearn.model_selection import train_test_split\n",
        "\n",
        "# to block unnecesarry warnings for updates etc.\n",
        "import warnings\n",
        "warnings.filterwarnings(\"ignore\")"
      ],
      "execution_count": null,
      "outputs": []
    },
    {
      "cell_type": "markdown",
      "metadata": {
        "id": "eoJR2fnDqnxV"
      },
      "source": [
        "### **Loading the NumPy datasets**"
      ]
    },
    {
      "cell_type": "code",
      "metadata": {
        "id": "BDe5B7_fqnxW"
      },
      "source": [
        "X = np.load(\"/content/drive/MyDrive/Datasets/Sign-language-digits-dataset/X.npy\")\n",
        "Y = np.load(\"/content/drive/MyDrive/Datasets/Sign-language-digits-dataset/Y.npy\")"
      ],
      "execution_count": null,
      "outputs": []
    },
    {
      "cell_type": "markdown",
      "metadata": {
        "id": "8znjwqPWqnxd"
      },
      "source": [
        "### Splitting train and test"
      ]
    },
    {
      "cell_type": "code",
      "metadata": {
        "id": "oL4RTGk2qnxd"
      },
      "source": [
        "x_train, x_test, y_train, y_test = train_test_split(X,Y,test_size=0.2,random_state=42)\n",
        "x_train = x_train.reshape(-1,64,64,1)\n",
        "x_test = x_test.reshape(-1,64,64,1)"
      ],
      "execution_count": null,
      "outputs": []
    },
    {
      "cell_type": "markdown",
      "metadata": {
        "id": "C119B9mlv9Xf"
      },
      "source": [
        "## Bayesian Optimisation\n",
        "\n"
      ]
    },
    {
      "cell_type": "markdown",
      "metadata": {
        "id": "mfxILGYy8JLk"
      },
      "source": [
        "### **Bayesian Optimization Module by Thomas Huijskens**\n",
        "\n",
        "**Source**: https://github.com/thuijskens/bayesian-optimization"
      ]
    },
    {
      "cell_type": "code",
      "metadata": {
        "id": "igTwX3kBaXbg"
      },
      "source": [
        "\"\"\" gp.py\n",
        "\n",
        "Bayesian optimisation of loss functions.\n",
        "\"\"\"\n",
        "\n",
        "import numpy as np\n",
        "import sklearn.gaussian_process as gp\n",
        "\n",
        "from scipy.stats import norm\n",
        "from scipy.optimize import minimize\n",
        "\n",
        "def expected_improvement(x, gaussian_process, evaluated_loss, greater_is_better=False, n_params=1):\n",
        "    \"\"\" expected_improvement\n",
        "\n",
        "    Expected improvement acquisition function.\n",
        "\n",
        "    Arguments:\n",
        "    ----------\n",
        "        x: array-like, shape = [n_samples, n_hyperparams]\n",
        "            The point for which the expected improvement needs to be computed.\n",
        "        gaussian_process: GaussianProcessRegressor object.\n",
        "            Gaussian process trained on previously evaluated hyperparameters.\n",
        "        evaluated_loss: Numpy array.\n",
        "            Numpy array that contains the values off the loss function for the previously\n",
        "            evaluated hyperparameters.\n",
        "        greater_is_better: Boolean.\n",
        "            Boolean flag that indicates whether the loss function is to be maximised or minimised.\n",
        "        n_params: int.\n",
        "            Dimension of the hyperparameter space.\n",
        "\n",
        "    \"\"\"\n",
        "\n",
        "    x_to_predict = x.reshape(-1, n_params)\n",
        "\n",
        "    mu, sigma = gaussian_process.predict(x_to_predict, return_std=True)\n",
        "\n",
        "    if greater_is_better:\n",
        "        loss_optimum = np.max(evaluated_loss)\n",
        "    else:\n",
        "        loss_optimum = np.min(evaluated_loss)\n",
        "\n",
        "    scaling_factor = (-1) ** (not greater_is_better)\n",
        "\n",
        "    # In case sigma equals zero\n",
        "    with np.errstate(divide='ignore'):\n",
        "        Z = scaling_factor * (mu - loss_optimum) / sigma\n",
        "        expected_improvement = scaling_factor * (mu - loss_optimum) * norm.cdf(Z) + sigma * norm.pdf(Z)\n",
        "        expected_improvement[sigma == 0.0] == 0.0\n",
        "\n",
        "    return -1 * expected_improvement\n",
        "\n",
        "\n",
        "def sample_next_hyperparameter(acquisition_func, gaussian_process, evaluated_loss, greater_is_better=False,\n",
        "                               bounds=(0, 10), n_restarts=25):\n",
        "    \"\"\" sample_next_hyperparameter\n",
        "\n",
        "    Proposes the next hyperparameter to sample the loss function for.\n",
        "\n",
        "    Arguments:\n",
        "    ----------\n",
        "        acquisition_func: function.\n",
        "            Acquisition function to optimise.\n",
        "        gaussian_process: GaussianProcessRegressor object.\n",
        "            Gaussian process trained on previously evaluated hyperparameters.\n",
        "        evaluated_loss: array-like, shape = [n_obs,]\n",
        "            Numpy array that contains the values off the loss function for the previously\n",
        "            evaluated hyperparameters.\n",
        "        greater_is_better: Boolean.\n",
        "            Boolean flag that indicates whether the loss function is to be maximised or minimised.\n",
        "        bounds: Tuple.\n",
        "            Bounds for the L-BFGS optimiser.\n",
        "        n_restarts: integer.\n",
        "            Number of times to run the minimiser with different starting points.\n",
        "\n",
        "    \"\"\"\n",
        "    best_x = None\n",
        "    best_acquisition_value = 1\n",
        "    n_params = bounds.shape[0]\n",
        "\n",
        "    for starting_point in np.random.uniform(bounds[:, 0], bounds[:, 1], size=(n_restarts, n_params)):\n",
        "\n",
        "        res = minimize(fun=acquisition_func,\n",
        "                       x0=starting_point.reshape(1, -1),\n",
        "                       bounds=bounds,\n",
        "                       method='L-BFGS-B',\n",
        "                       args=(gaussian_process, evaluated_loss, greater_is_better, n_params))\n",
        "\n",
        "        if res.fun < best_acquisition_value:\n",
        "            best_acquisition_value = res.fun\n",
        "            best_x = res.x\n",
        "\n",
        "    return best_x\n",
        "\n",
        "\n",
        "def bayesian_optimisation(n_iters, sample_loss, bounds, x0=None, n_pre_samples=5,\n",
        "                          gp_params=None, random_search=False, alpha=1e-5, epsilon=1e-7):\n",
        "    \"\"\" bayesian_optimisation\n",
        "\n",
        "    Uses Gaussian Processes to optimise the loss function `sample_loss`.\n",
        "\n",
        "    Arguments:\n",
        "    ----------\n",
        "        n_iters: integer.\n",
        "            Number of iterations to run the search algorithm.\n",
        "        sample_loss: function.\n",
        "            Function to be optimised.\n",
        "        bounds: array-like, shape = [n_params, 2].\n",
        "            Lower and upper bounds on the parameters of the function `sample_loss`.\n",
        "        x0: array-like, shape = [n_pre_samples, n_params].\n",
        "            Array of initial points to sample the loss function for. If None, randomly\n",
        "            samples from the loss function.\n",
        "        n_pre_samples: integer.\n",
        "            If x0 is None, samples `n_pre_samples` initial points from the loss function.\n",
        "        gp_params: dictionary.\n",
        "            Dictionary of parameters to pass on to the underlying Gaussian Process.\n",
        "        random_search: integer.\n",
        "            Flag that indicates whether to perform random search or L-BFGS-B optimisation\n",
        "            over the acquisition function.\n",
        "        alpha: double.\n",
        "            Variance of the error term of the GP.\n",
        "        epsilon: double.\n",
        "            Precision tolerance for floats.\n",
        "    \"\"\"\n",
        "\n",
        "    x_list = []\n",
        "    y_list = []\n",
        "\n",
        "    n_params = bounds.shape[0]\n",
        "\n",
        "    if x0 is None:\n",
        "        for params in np.random.uniform(bounds[:, 0], bounds[:, 1], (n_pre_samples, bounds.shape[0])):\n",
        "            x_list.append(params)\n",
        "            y_list.append(sample_loss(params))\n",
        "    else:\n",
        "        for params in x0:\n",
        "            x_list.append(params)\n",
        "            y_list.append(sample_loss(params))\n",
        "\n",
        "    xp = np.array(x_list)\n",
        "    yp = np.array(y_list)\n",
        "\n",
        "    # Create the GP\n",
        "    if gp_params is not None:\n",
        "        model = gp.GaussianProcessRegressor(**gp_params)\n",
        "    else:\n",
        "        kernel = gp.kernels.Matern()\n",
        "        model = gp.GaussianProcessRegressor(kernel=kernel,\n",
        "                                            alpha=alpha,\n",
        "                                            n_restarts_optimizer=10,\n",
        "                                            normalize_y=True)\n",
        "        \n",
        "\n",
        "    for n in range(n_iters):\n",
        "\n",
        "        model.fit(xp, yp)\n",
        "\n",
        "        # Sample next hyperparameter\n",
        "        if random_search:\n",
        "            x_random = np.random.uniform(bounds[:, 0], bounds[:, 1], size=(random_search, n_params))\n",
        "            ei = -1 * expected_improvement(x_random, model, yp, greater_is_better=True, n_params=n_params)\n",
        "            next_sample = x_random[np.argmax(ei), :]\n",
        "        else:\n",
        "            next_sample = sample_next_hyperparameter(expected_improvement, model, yp, greater_is_better=True, bounds=bounds, n_restarts=100)\n",
        "\n",
        "        # Duplicates will break the GP. In case of a duplicate, we will randomly sample a next query point.\n",
        "        if np.any(np.abs(next_sample - xp) <= epsilon):\n",
        "            next_sample = np.random.uniform(bounds[:, 0], bounds[:, 1], bounds.shape[0])\n",
        "\n",
        "        # Sample loss for new set of parameters\n",
        "        cv_score = sample_loss(next_sample)\n",
        "\n",
        "        # Update lists\n",
        "        x_list.append(next_sample)\n",
        "        y_list.append(cv_score)\n",
        "\n",
        "        # Update xp and yp\n",
        "        xp = np.array(x_list)\n",
        "        yp = np.array(y_list)\n",
        "\n",
        "    return xp, yp\n"
      ],
      "execution_count": null,
      "outputs": []
    },
    {
      "cell_type": "code",
      "metadata": {
        "id": "YOFM0ANknyJb"
      },
      "source": [
        "def checkvals(params):\n",
        "\n",
        "  l1 = params[0]\n",
        "  l2 = params[1]\n",
        "  l3 = params[2]\n",
        "  l4 = params[3]\n",
        "  l5 = params[4]\n",
        "  l6 = params[5]\n",
        "  l7 = params[6]\n",
        "  d1 = params[7]\n",
        "  d2 = params[8]\n",
        "  d3 = params[9]\n",
        "\n",
        "\n",
        "  CNN_model = Sequential()\n",
        "\n",
        "  CNN_model.add(Conv2D(filters=l1,kernel_size=(5,5),activation=\"relu\",padding=\"same\",input_shape=(64,64,1)))\n",
        "  CNN_model.add(Conv2D(filters=l2,kernel_size=(5,5),activation=\"relu\",padding=\"same\"))\n",
        "  CNN_model.add(MaxPooling2D(pool_size=(2,2),padding=\"same\"))\n",
        "\n",
        "  CNN_model.add(Conv2D(filters=l3,kernel_size=(4,4),activation=\"relu\",padding=\"same\"))\n",
        "  CNN_model.add(Conv2D(filters=l4,kernel_size=(4,4),activation=\"relu\",padding=\"same\"))\n",
        "  CNN_model.add(MaxPooling2D(pool_size=(2,2),padding=\"same\"))\n",
        "\n",
        "  CNN_model.add(Dropout(0.2))\n",
        "\n",
        "  CNN_model.add(Conv2D(filters=l5,kernel_size=(3,3),activation=\"relu\",padding=\"same\"))\n",
        "  CNN_model.add(Conv2D(filters=l6,kernel_size=(3,3),activation=\"relu\",padding=\"same\"))\n",
        "  CNN_model.add(MaxPooling2D(pool_size=(2,2),padding=\"same\"))\n",
        "\n",
        "  CNN_model.add(Dropout(0.2))\n",
        "\n",
        "  CNN_model.add(Conv2D(filters=l7,kernel_size=(2,2),activation=\"relu\",padding=\"same\"))\n",
        "  CNN_model.add(MaxPooling2D(pool_size=(2,2),padding=\"same\"))\n",
        "\n",
        "  CNN_model.add(Dropout(0.2))\n",
        "\n",
        "  CNN_model.add(Flatten())\n",
        "\n",
        "  CNN_model.add(Dense(d1,activation=\"relu\"))\n",
        "  CNN_model.add(Dense(d2,activation=\"relu\"))\n",
        "  CNN_model.add(Dense(d3,activation=\"relu\"))\n",
        "\n",
        "  CNN_model.add(Dense(10,activation=\"softmax\"))\n",
        "\n",
        "  CNN_model.compile(optimizer=Adam(lr=0.0002),loss=keras.losses.categorical_crossentropy,metrics=[\"accuracy\"])\n",
        "  results = CNN_model.fit(x_train,y_train,epochs=60,verbose = 0, validation_data=(x_test,y_test))\n",
        "  print(\"Done.\")\n",
        "  return results.history"
      ],
      "execution_count": null,
      "outputs": []
    },
    {
      "cell_type": "code",
      "metadata": {
        "id": "lpcRF4OC4PbU"
      },
      "source": [
        "def sample_loss(params):\n",
        "  return (checkvals(params))[\"val_accuracy\"][-1]"
      ],
      "execution_count": null,
      "outputs": []
    },
    {
      "cell_type": "code",
      "metadata": {
        "colab": {
          "base_uri": "https://localhost:8080/"
        },
        "id": "N9qE0GXnOhUA",
        "outputId": "53280880-3d6c-453b-94ab-9629d74962a2"
      },
      "source": [
        "#bounds = np.array([[2, 16], [16, 32], [16, 32], [16, 32], [16, 32], [48, 64], [16, 32], [112, 144], [56, 72], [32, 48]])\n",
        "#bounds = np.array([[15, 17], [31, 33], [31, 33], [31, 33], [31, 33], [63, 65], [31, 33], [127, 129], [63, 65], [39, 41]])\n",
        "bounds = np.array([[2, 128], [2, 128], [2, 128], [2, 128], [2, 128], [2, 128], [2, 128], [2, 128], [2, 128], [2, 128]])\n",
        "\n",
        "print(bounds)\n",
        "\n",
        "xp, yp = bayesian_optimisation(n_iters=40, sample_loss=sample_loss, \n",
        "                               bounds=bounds,\n",
        "                               n_pre_samples=15)"
      ],
      "execution_count": null,
      "outputs": [
        {
          "output_type": "stream",
          "text": [
            "[[  2 128]\n",
            " [  2 128]\n",
            " [  2 128]\n",
            " [  2 128]\n",
            " [  2 128]\n",
            " [  2 128]\n",
            " [  2 128]\n",
            " [  2 128]\n",
            " [  2 128]\n",
            " [  2 128]]\n",
            "Done.\n",
            "Done.\n",
            "Done.\n",
            "Done.\n",
            "Done.\n",
            "Done.\n",
            "Done.\n",
            "Done.\n",
            "Done.\n",
            "Done.\n",
            "Done.\n",
            "Done.\n",
            "Done.\n",
            "Done.\n",
            "Done.\n",
            "Done.\n",
            "Done.\n",
            "Done.\n",
            "Done.\n",
            "Done.\n",
            "Done.\n",
            "Done.\n",
            "Done.\n",
            "Done.\n",
            "Done.\n",
            "Done.\n",
            "Done.\n",
            "Done.\n",
            "Done.\n",
            "Done.\n",
            "Done.\n",
            "Done.\n",
            "Done.\n",
            "Done.\n",
            "Done.\n",
            "Done.\n",
            "Done.\n",
            "Done.\n",
            "Done.\n",
            "Done.\n",
            "Done.\n",
            "Done.\n",
            "Done.\n",
            "Done.\n",
            "Done.\n",
            "Done.\n",
            "Done.\n",
            "Done.\n",
            "Done.\n",
            "Done.\n",
            "Done.\n",
            "Done.\n",
            "Done.\n",
            "Done.\n",
            "Done.\n"
          ],
          "name": "stdout"
        }
      ]
    },
    {
      "cell_type": "code",
      "metadata": {
        "id": "NTrg_TfplWKe",
        "colab": {
          "base_uri": "https://localhost:8080/"
        },
        "outputId": "688251aa-64c1-438e-92b6-7265616eb492"
      },
      "source": [
        "#print(xp)\n",
        "#print(yp)\n",
        "\n",
        "# The maximum is at:\n",
        "xp_hat = np.round(xp[np.array(yp).argmax(), :])\n",
        "opt_vals = np.round(xp_hat)\n",
        "print(opt_vals)"
      ],
      "execution_count": null,
      "outputs": [
        {
          "output_type": "stream",
          "text": [
            "[ 54.  54. 114. 125.  43.  74.  45.  95.  50.  87.]\n"
          ],
          "name": "stdout"
        }
      ]
    },
    {
      "cell_type": "code",
      "metadata": {
        "colab": {
          "base_uri": "https://localhost:8080/"
        },
        "id": "V_Q7ZQnQoZai",
        "outputId": "fc9d08ec-ba66-45c3-a5e9-336bfc9af173"
      },
      "source": [
        "results = checkvals(opt_vals)"
      ],
      "execution_count": null,
      "outputs": [
        {
          "output_type": "stream",
          "text": [
            "Done.\n"
          ],
          "name": "stdout"
        }
      ]
    },
    {
      "cell_type": "code",
      "metadata": {
        "colab": {
          "base_uri": "https://localhost:8080/",
          "height": 540
        },
        "id": "jpFJY1E176n-",
        "outputId": "26c95607-72b6-468e-d509-a3bc851921c8"
      },
      "source": [
        "plt.figure(figsize=(24,8))\n",
        "\n",
        "plt.subplot(1,2,1)\n",
        "plt.plot(results[\"val_accuracy\"],label=\"validation_accuracy\",c=\"red\",linewidth=4)\n",
        "plt.plot(results[\"accuracy\"],label=\"training_accuracy\",c=\"green\",linewidth=4)\n",
        "plt.legend()\n",
        "plt.grid(True)\n",
        "\n",
        "plt.subplot(1,2,2)\n",
        "plt.plot(results[\"val_loss\"],label=\"validation_loss\",c=\"red\",linewidth=4)\n",
        "plt.plot(results[\"loss\"],label=\"training_loss\",c=\"green\",linewidth=4)\n",
        "plt.legend()\n",
        "plt.grid(True)\n",
        "\n",
        "plt.suptitle(\"ACC / LOSS\",fontsize=18)\n",
        "\n",
        "plt.show()"
      ],
      "execution_count": null,
      "outputs": [
        {
          "output_type": "display_data",
          "data": {
            "image/png": "[encoded data removed]",
            "text/plain": [
              "<Figure size 1728x576 with 2 Axes>"
            ]
          },
          "metadata": {
            "tags": [],
            "needs_background": "light"
          }
        }
      ]
    },
    {
      "cell_type": "code",
      "metadata": {
        "colab": {
          "base_uri": "https://localhost:8080/"
        },
        "id": "GExKG7Zl7-v-",
        "outputId": "c1c34ac2-0eaa-49f9-ea6e-f43356b462a7"
      },
      "source": [
        "print(results[\"accuracy\"][-1])\n",
        "print(results[\"val_accuracy\"][-1])"
      ],
      "execution_count": null,
      "outputs": [
        {
          "output_type": "stream",
          "text": [
            "0.9909035563468933\n",
            "0.9685230255126953\n"
          ],
          "name": "stdout"
        }
      ]
    }
  ]
}